{
  "nbformat": 4,
  "nbformat_minor": 0,
  "metadata": {
    "colab": {
      "provenance": [],
      "authorship_tag": "ABX9TyPDzH24Bwychfioces66uvj",
      "include_colab_link": true
    },
    "kernelspec": {
      "name": "python3",
      "display_name": "Python 3"
    },
    "language_info": {
      "name": "python"
    }
  },
  "cells": [
    {
      "cell_type": "markdown",
      "metadata": {
        "id": "view-in-github",
        "colab_type": "text"
      },
      "source": [
        "<a href=\"https://colab.research.google.com/github/Nahyuntak/toy_pythons/blob/main/Whiles_HT_Na.ipynb\" target=\"_parent\"><img src=\"https://colab.research.google.com/assets/colab-badge.svg\" alt=\"Open In Colab\"/></a>"
      ]
    },
    {
      "cell_type": "code",
      "execution_count": 1,
      "metadata": {
        "id": "L3L5-71bXqQt"
      },
      "outputs": [],
      "source": [
        "first = 1"
      ]
    },
    {
      "cell_type": "code",
      "source": [
        "while first < 4 : \n",
        " print(first)\n",
        " print(\"in whiling\")\n",
        " first = first + 1\n",
        "print('End')"
      ],
      "metadata": {
        "colab": {
          "base_uri": "https://localhost:8080/"
        },
        "id": "zSh88tTWYTo7",
        "outputId": "ff821c30-3be2-4043-d6ca-7861b1d92088"
      },
      "execution_count": 12,
      "outputs": [
        {
          "output_type": "stream",
          "name": "stdout",
          "text": [
            "End\n"
          ]
        }
      ]
    },
    {
      "cell_type": "markdown",
      "source": [
        "# 두 번째 입력을 합니다.\n"
      ],
      "metadata": {
        "id": "9mo_vXvTmu9I"
      }
    },
    {
      "cell_type": "code",
      "source": [],
      "metadata": {
        "id": "Szhy13nEm1hh"
      },
      "execution_count": null,
      "outputs": []
    }
  ]
}