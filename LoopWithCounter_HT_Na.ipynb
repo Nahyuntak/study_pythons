{
  "nbformat": 4,
  "nbformat_minor": 0,
  "metadata": {
    "colab": {
      "provenance": [],
      "authorship_tag": "ABX9TyOnX/WL47cFIkquLfe0JOgR",
      "include_colab_link": true
    },
    "kernelspec": {
      "name": "python3",
      "display_name": "Python 3"
    },
    "language_info": {
      "name": "python"
    }
  },
  "cells": [
    {
      "cell_type": "markdown",
      "metadata": {
        "id": "view-in-github",
        "colab_type": "text"
      },
      "source": [
        "<a href=\"https://colab.research.google.com/github/Nahyuntak/toy_pythons/blob/main/LoopWithCounter_HT_Na.ipynb\" target=\"_parent\"><img src=\"https://colab.research.google.com/assets/colab-badge.svg\" alt=\"Open In Colab\"/></a>"
      ]
    },
    {
      "cell_type": "markdown",
      "source": [
        "# 변수 count를 만들고 1 삽입"
      ],
      "metadata": {
        "id": "8nyXruo4wdCW"
      }
    },
    {
      "cell_type": "code",
      "execution_count": 18,
      "metadata": {
        "id": "SwxP_5XUumgW"
      },
      "outputs": [],
      "source": [
        "count = 1"
      ]
    },
    {
      "cell_type": "markdown",
      "source": [
        "변수 count가 6 미만일때까지 루프를 돌리고 1씩 증가"
      ],
      "metadata": {
        "id": "s7TitpHGw3L2"
      }
    },
    {
      "cell_type": "code",
      "source": [
        "while count < 6 :\n",
        "  print(count)\n",
        "  count = count + 1\n"
      ],
      "metadata": {
        "colab": {
          "base_uri": "https://localhost:8080/"
        },
        "id": "JQ1pLciXvHmQ",
        "outputId": "15ba7e54-6ccd-43d4-f3c8-5174cfeb0633"
      },
      "execution_count": 19,
      "outputs": [
        {
          "output_type": "stream",
          "name": "stdout",
          "text": [
            "1\n",
            "2\n",
            "3\n",
            "4\n",
            "5\n"
          ]
        }
      ]
    }
  ]
}